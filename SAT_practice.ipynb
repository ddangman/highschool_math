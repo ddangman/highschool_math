{
 "cells": [
  {
   "cell_type": "markdown",
   "metadata": {},
   "source": [
    "A laser tag arena sells two types of memberships. One package costs $325 for one year of membership with an unlimited number of visits. The second package has a $125 enrollment fee, includes five free visits, and costs an additional $8 per visit after the first five. How many visits would a person need to use for each type of membership to cost the same amount over a one-year period?"
   ]
  },
  {
   "cell_type": "code",
   "execution_count": 14,
   "metadata": {},
   "outputs": [
    {
     "name": "stdout",
     "output_type": "stream",
     "text": [
      "[25]\n"
     ]
    }
   ],
   "source": [
    "# import everything from sympy module\n",
    "from sympy import *\n",
    " \n",
    "# assign x to symbol\n",
    "x = Symbol('x')\n",
    "\n",
    "# 325 = 125 + 8x\n",
    "print(solve(125+8*x-325, x))"
   ]
  },
  {
   "cell_type": "code",
   "execution_count": 15,
   "metadata": {},
   "outputs": [
    {
     "name": "stdout",
     "output_type": "stream",
     "text": [
      "30\n"
     ]
    }
   ],
   "source": [
    "# add the 5 free visit\n",
    "print(25 + 5)"
   ]
  }
 ],
 "metadata": {
  "kernelspec": {
   "display_name": "base",
   "language": "python",
   "name": "python3"
  },
  "language_info": {
   "codemirror_mode": {
    "name": "ipython",
    "version": 3
   },
   "file_extension": ".py",
   "mimetype": "text/x-python",
   "name": "python",
   "nbconvert_exporter": "python",
   "pygments_lexer": "ipython3",
   "version": "3.11.7"
  }
 },
 "nbformat": 4,
 "nbformat_minor": 2
}
