{
 "cells": [
  {
   "cell_type": "code",
   "execution_count": 9,
   "metadata": {},
   "outputs": [],
   "source": [
    "from sympy import Symbol, solve\n",
    "\n",
    "# assign x to symbol\n",
    "x = Symbol('x')"
   ]
  },
  {
   "cell_type": "markdown",
   "metadata": {},
   "source": [
    "A laser tag arena sells two types of memberships. One package costs 325 USD for one year of membership with an unlimited number of visits. The second package has a 125 USD enrollment fee, includes five free visits, and costs an additional 8 USD per visit after the first five. How many visits would a person need to use for each type of membership to cost the same amount over a one-year period?"
   ]
  },
  {
   "cell_type": "code",
   "execution_count": 10,
   "metadata": {},
   "outputs": [
    {
     "name": "stdout",
     "output_type": "stream",
     "text": [
      "[25]\n"
     ]
    }
   ],
   "source": [
    "# 325 = 125 + 8x\n",
    "print(solve(125+8*x-325, x))"
   ]
  },
  {
   "cell_type": "code",
   "execution_count": 11,
   "metadata": {},
   "outputs": [
    {
     "name": "stdout",
     "output_type": "stream",
     "text": [
      "30\n"
     ]
    }
   ],
   "source": [
    "# add the 5 free visit\n",
    "print(25 + 5)"
   ]
  },
  {
   "cell_type": "markdown",
   "metadata": {},
   "source": [
    "A bicycle travels 5 miles at a rate of 20 mph. It then travels the next 5 miles at a rate of 10 mph. What is its average mph?"
   ]
  },
  {
   "cell_type": "code",
   "execution_count": 12,
   "metadata": {},
   "outputs": [
    {
     "name": "stdout",
     "output_type": "stream",
     "text": [
      "13.333333333333334\n"
     ]
    }
   ],
   "source": [
    "# calculate total hours\n",
    "time1 = 5/20\n",
    "time2 = 5/10\n",
    "total_time = time1 + time2\n",
    "\n",
    "# calculate total miles\n",
    "total_distance = 5 + 5\n",
    "\n",
    "# average miles per hours\n",
    "print(total_distance / total_time)"
   ]
  },
  {
   "cell_type": "markdown",
   "metadata": {},
   "source": [
    "The sequence 2, -4, 8, ... is produced by taking the first number 2 and multiplying it by -2. How many of the first 50 terms is under 100?"
   ]
  },
  {
   "cell_type": "code",
   "execution_count": 13,
   "metadata": {},
   "outputs": [
    {
     "name": "stdout",
     "output_type": "stream",
     "text": [
      "2\n",
      "-4\n",
      "8\n",
      "-16\n",
      "32\n",
      "-64\n",
      "128\n",
      "-256\n",
      "512\n",
      "-1024\n",
      "2048\n",
      "-4096\n",
      "8192\n",
      "-16384\n",
      "32768\n",
      "-65536\n",
      "131072\n",
      "-262144\n",
      "524288\n",
      "-1048576\n",
      "2097152\n",
      "-4194304\n",
      "8388608\n",
      "-16777216\n",
      "33554432\n",
      "-67108864\n",
      "134217728\n",
      "-268435456\n",
      "536870912\n",
      "-1073741824\n",
      "2147483648\n",
      "-4294967296\n",
      "8589934592\n",
      "-17179869184\n",
      "34359738368\n",
      "-68719476736\n",
      "137438953472\n",
      "-274877906944\n",
      "549755813888\n",
      "-1099511627776\n",
      "2199023255552\n",
      "-4398046511104\n",
      "8796093022208\n",
      "-17592186044416\n",
      "35184372088832\n",
      "-70368744177664\n",
      "140737488355328\n",
      "-281474976710656\n",
      "562949953421312\n",
      "-1125899906842624\n"
     ]
    }
   ],
   "source": [
    "# initialize sequence\n",
    "sequence = 2\n",
    "\n",
    "# initialize counter\n",
    "count = 0\n",
    "\n",
    "# loop first 50 terms\n",
    "for i in range(50):\n",
    "    # check if under 100\n",
    "    if sequence < 100:\n",
    "        count = count + 1\n",
    "    # print sequence\n",
    "    print(sequence)\n",
    "    # advance sequence\n",
    "    sequence = sequence * -2"
   ]
  },
  {
   "cell_type": "code",
   "execution_count": 14,
   "metadata": {},
   "outputs": [
    {
     "name": "stdout",
     "output_type": "stream",
     "text": [
      "28\n"
     ]
    }
   ],
   "source": [
    "# print final count\n",
    "print(count)"
   ]
  },
  {
   "cell_type": "markdown",
   "metadata": {},
   "source": [
    "How many permutations of length 3 from the set {2, 4, 6, 8} begin with 2?"
   ]
  },
  {
   "cell_type": "code",
   "execution_count": 15,
   "metadata": {},
   "outputs": [
    {
     "name": "stdout",
     "output_type": "stream",
     "text": [
      "(2, 4, 6)\n",
      "(2, 4, 8)\n",
      "(2, 6, 4)\n",
      "(2, 6, 8)\n",
      "(2, 8, 4)\n",
      "(2, 8, 6)\n",
      "(4, 2, 6)\n",
      "(4, 2, 8)\n",
      "(4, 6, 2)\n",
      "(4, 6, 8)\n",
      "(4, 8, 2)\n",
      "(4, 8, 6)\n",
      "(6, 2, 4)\n",
      "(6, 2, 8)\n",
      "(6, 4, 2)\n",
      "(6, 4, 8)\n",
      "(6, 8, 2)\n",
      "(6, 8, 4)\n",
      "(8, 2, 4)\n",
      "(8, 2, 6)\n",
      "(8, 4, 2)\n",
      "(8, 4, 6)\n",
      "(8, 6, 2)\n",
      "(8, 6, 4)\n"
     ]
    }
   ],
   "source": [
    "from itertools import permutations \n",
    "\n",
    "# Get all permutations of length 3\n",
    "perm = permutations([2, 4, 6, 8], 3) \n",
    "\n",
    "# initialize counter\n",
    "count = 0\n",
    "\n",
    "for i in list(perm): \n",
    "    # Print the obtained permutations \n",
    "\tprint (i) \n",
    "    # count permutations starting with 2\n",
    "\tif i[0]==2:\n",
    "\t\tcount = count + 1\n"
   ]
  },
  {
   "cell_type": "code",
   "execution_count": 16,
   "metadata": {},
   "outputs": [
    {
     "name": "stdout",
     "output_type": "stream",
     "text": [
      "6\n"
     ]
    }
   ],
   "source": [
    "# print final count\n",
    "print(count)"
   ]
  }
 ],
 "metadata": {
  "kernelspec": {
   "display_name": "base",
   "language": "python",
   "name": "python3"
  },
  "language_info": {
   "codemirror_mode": {
    "name": "ipython",
    "version": 3
   },
   "file_extension": ".py",
   "mimetype": "text/x-python",
   "name": "python",
   "nbconvert_exporter": "python",
   "pygments_lexer": "ipython3",
   "version": "3.11.7"
  }
 },
 "nbformat": 4,
 "nbformat_minor": 2
}
